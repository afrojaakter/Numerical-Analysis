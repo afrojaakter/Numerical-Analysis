{
  "nbformat": 4,
  "nbformat_minor": 0,
  "metadata": {
    "colab": {
      "name": "Fall2019HW.pynb",
      "provenance": [],
      "collapsed_sections": [],
      "machine_shape": "hm",
      "include_colab_link": true
    },
    "kernelspec": {
      "name": "python3",
      "display_name": "Python 3"
    },
    "accelerator": "TPU"
  },
  "cells": [
    {
      "cell_type": "markdown",
      "metadata": {
        "id": "view-in-github",
        "colab_type": "text"
      },
      "source": [
        "<a href=\"https://colab.research.google.com/github/afrojaakter/Numerical-Analysis/blob/main/Fall2019HW_pynb.ipynb\" target=\"_parent\"><img src=\"https://colab.research.google.com/assets/colab-badge.svg\" alt=\"Open In Colab\"/></a>"
      ]
    },
    {
      "cell_type": "code",
      "metadata": {
        "id": "x8ngVlcQPast"
      },
      "source": [
        ""
      ],
      "execution_count": null,
      "outputs": []
    },
    {
      "cell_type": "code",
      "metadata": {
        "id": "Lp1y-LnPPpJn"
      },
      "source": [
        "from google.colab import drive\n",
        "drive.mount('/content/drive')"
      ],
      "execution_count": null,
      "outputs": []
    },
    {
      "cell_type": "code",
      "metadata": {
        "id": "TTQDq1Bpvumy"
      },
      "source": [
        "#!pip install pyamg\n",
        "import pyamg\n",
        "from numpy import *\n",
        "import matplotlib.pyplot as plt\n",
        "import scipy.sparse as sparse\n",
        "from pyamg.gallery import stencil_grid\n",
        "from mpl_toolkits.mplot3d import Axes3D\n",
        "\n",
        "def ConjugateGradient(A, f, err_tol):\n",
        "  u0 = zeros((A.shape[0],1))\n",
        "  r0 = f - A.dot(u0)\n",
        "  p0 = r0 \n",
        "  #print(p0.shape, r0.shape, f.shape,A.dot(u0).shape)\n",
        "  itnum = 1\n",
        "  while linalg.norm(r0) > err_tol:      \n",
        "    for i in range(10):  \n",
        "      rdotr =  (r0.T).dot(r0) \n",
        "      #print('r:',rdotr.shape)\n",
        "      Ap = A.dot(p0)  \n",
        "      pAp = (p0.T).dot(Ap)\n",
        "      alpha_k = rdotr/pAp\n",
        "      u = u0 + alpha_k*p0      \n",
        "      r = r0 - alpha_k*Ap\n",
        "      if linalg.norm(r) < err_tol:\n",
        "        break      \n",
        "      else:\n",
        "          rdotr_new = (r.T).dot(r)\n",
        "          beta_k = rdotr_new/rdotr\n",
        "          p = r + beta_k*p0\n",
        "          u0 = u\n",
        "          r0 = r\n",
        "          p0 = p\n",
        "    #itnum +=1\n",
        "  return itnum, r \n",
        "                      \n",
        "N_list=[8]                    \n",
        "H = empty(0)\n",
        "CG_error = empty(0)\n",
        "CGiter_num = empty(0)\n",
        "cond_num = empty(0)\n",
        "\n",
        "for N in N_list:\n",
        "  stencil = [[0,-1,0],[-1,4,-1],[0,-1,0]] \n",
        "  grid = (N-2,N-2)\n",
        "  h = 1/(N-1)\n",
        "  H = append(H,h)\n",
        "  x = linspace(h, 1-h, N-2)\n",
        "  y = linspace(h, 1-h, N-2)\n",
        "  X,Y = meshgrid(x,y) \n",
        "  X = X.reshape(-1,)\n",
        "  Y = Y.reshape(-1,)\n",
        "\n",
        "  A = stencil_grid(stencil, grid, dtype=float, format='csr') #the block matrix\n",
        "  \n",
        "  f_numeric = reshape((h**2)*f(X,Y),(A.shape[0],1))\n",
        "  #u =ConjugateGradient(A, f_numeric, 1e-6)\n",
        "  u1 = sparse.linalg.cg(A, f_numeric, x0 = None, tol = 1e-6)\n",
        "  print(u,u1)\n",
        "\n",
        "  [n, e_CG] = ConjugateGradient(A, f_numeric, 1e-2)\n",
        "  CG_error = append(CG_error,e_CG)\n",
        "  CGiter_num = append(CGiter_num, n)\n",
        "print('iteration number', CGiter_num, '\\n error', CG_error)   \n",
        "  "
      ],
      "execution_count": null,
      "outputs": []
    },
    {
      "cell_type": "code",
      "metadata": {
        "id": "sAumM9O_imTW"
      },
      "source": [
        "#Numerical HW: Due date 22 Nov\n",
        "#!pip install pyamg\n",
        "import pyamg\n",
        "from numpy import *\n",
        "import scipy.sparse as sparse\n",
        "from pyamg.gallery import stencil_grid\n",
        "import matplotlib.pyplot as plt\n",
        "import matplotlib.cm as cm\n",
        "import seaborn as sns\n",
        "from mpl_toolkits.mplot3d import Axes3D\n",
        "plt.rcParams.update({'font.size': 12})\n",
        "\n",
        "\n",
        "def u_true(x,y):\n",
        "  return sin(2*pi*x)*sin(2*pi*y)\n",
        "\n",
        "def f(x,y):\n",
        "  'negative of the second derivative of u'\n",
        "  return 8*pi**2*sin(2*pi*x)*sin(2*pi*y)\n",
        "\n",
        "def Rchrd_itrn_method(A,f,err_tol):\n",
        "  itnum = 1\n",
        "  u0 = zeros((A.shape[0],1))\n",
        "  e_r = 1\n",
        "  while e_r > err_tol:\n",
        "    for i in range(itnum):   \n",
        "      u = u0 - 0.25*(A.dot(u0) - f)              \n",
        "      e_rNew = linalg.norm(u - u0) \n",
        "      u0 = u\n",
        "    e_r = e_rNew\n",
        "    itnum +=1   \n",
        "  return itnum, e_r , u\n",
        "\n",
        "def Jacobi(A, f, err_tol):\n",
        "  L = sparse.tril(A, k = -1)\n",
        "  U = sparse.triu(A, k = 1)\n",
        "  D = sparse.tril(A) - L\n",
        "  itnum = 1\n",
        "  u0 = zeros((A.shape[0],1))\n",
        "  e_r = 1\n",
        "  while e_r > err_tol:  \n",
        "    for i in range(itnum):  \n",
        "      u1 = f - (L+U).dot(u0) \n",
        "      u = sparse.linalg.spsolve(D,u1)          \n",
        "      e_rNew = linalg.norm(u - u0) \n",
        "      u0 = u\n",
        "    e_r = e_rNew\n",
        "    itnum +=1\n",
        "  return itnum, e_r, u\n",
        "\n",
        "def GaussSeidel(A, f, err_tol):\n",
        "  L = sparse.tril(A)\n",
        "  U = sparse.triu(A, k = 1)\n",
        "  itnum = 1\n",
        "  u0 = zeros((A.shape[0],1))\n",
        "  e_r = 1\n",
        "  while e_r > err_tol:  \n",
        "    for i in range(itnum):   \n",
        "      u2 = f - U.dot(u0)\n",
        "      u = sparse.linalg.spsolve(L,u2) \n",
        "      u = reshape(u, (len(u0),1))         \n",
        "      e_rNew = linalg.norm(u - u0) \n",
        "      u0 = u\n",
        "    e_r = e_rNew\n",
        "    itnum +=1\n",
        "  return itnum, e_r, u\n",
        "\n",
        "def conditionNUmber(A):\n",
        "  a = linalg.eigvals(A.toarray())\n",
        "  return max(a)/min(a)\n",
        "  \n",
        "N_list=[4,8,16,32]                    \n",
        "H = empty(0)\n",
        "error = empty(0)\n",
        "\n",
        "Rchrd_error = empty(0)\n",
        "Rciter_num = empty(0)\n",
        "\n",
        "jc_error = empty(0)\n",
        "jciter_num = empty(0)\n",
        "\n",
        "GS_error = empty(0)\n",
        "GSiter_num = empty(0)\n",
        "\n",
        "cond_num = empty(0)\n",
        "\n",
        "for N in N_list:\n",
        "  stencil = [[0,-1,0],[-1,4,-1],[0,-1,0]] \n",
        "  grid = (N-2,N-2)\n",
        "  h = 1/(N-1)\n",
        "  H = append(H,h)\n",
        "  x = linspace(h, 1-h, N-2)\n",
        "  y = linspace(h, 1-h, N-2)\n",
        "  X1,Y1 = meshgrid(x,y)\n",
        "  X = X1.reshape(-1,)\n",
        "  Y = Y1.reshape(-1,)\n",
        "  #Question:(1)\n",
        "  A = stencil_grid(stencil, grid, dtype=float, format='csr') #the block matrix\n",
        "  #Type \"print(A.todense())\" to see the matrix\n",
        "\n",
        "  k = conditionNUmber(A)\n",
        "  cond_num = append(cond_num,k)\n",
        "  \n",
        "\n",
        "  utrue = reshape(u_true(X,Y), (A.shape[0],1))\n",
        "\n",
        "  f_numeric = reshape((h**2)*f(X,Y),(A.shape[0],1))\n",
        "  u_numeric = sparse.linalg.spsolve(A,f_numeric)\n",
        "  \n",
        "  #Solving u = inv(A)*f\n",
        "  e = linalg.norm(u_numeric - u_true(X,Y))/linalg.norm(u_true(X,Y))\n",
        "  error = append(error,e)\n",
        "  \n",
        "  #Richardson Itereation:\n",
        "  [n, e_rc, u_rc] = Rchrd_itrn_method(A, f_numeric, 1e-6)\n",
        "  Rchrd_error = append(Rchrd_error,e_rc)\n",
        "  Rciter_num = append(Rciter_num, n)\n",
        "\n",
        "  #Jacobi Iteration:\n",
        "  [n, e_jc,u_jc] = Jacobi(A, f_numeric, 1e-6)\n",
        "  jc_error = append(jc_error,e_jc)\n",
        "  jciter_num = append(jciter_num, n)\n",
        " \n",
        "  #Gauss-Seidel Iteration:\n",
        "  [n, e_GS, u_GS] = GaussSeidel(A, f_numeric, 1e-6)\n",
        "  GS_error = append(GS_error,e_GS)\n",
        "  GSiter_num = append(GSiter_num, n)\n",
        "  \n",
        "  #Conjugate gradient:\n",
        "  u1 = sparse.linalg.cg(A, f_numeric, x0 = None, tol = 1e-6)  \n",
        "  u1 = reshape(u1[0],(len(u1[0]),1))\n",
        "  \n",
        "print('h',H, '\\n error', error)\n",
        "print('condition number:', cond_num)\n",
        "print('iteration number', Rciter_num, '\\n error', Rchrd_error,)\n",
        "print('itNUm:', jciter_num, '\\n error', jc_error)\n",
        "print('iteration number', GSiter_num, '\\n error', GS_error)\n",
        "\n",
        "\n",
        "if False:  # make it \"True\" to see the plots.\n",
        "\n",
        "  plt.figure()\n",
        "  plt.loglog(H,error,'o-', label = 'error')\n",
        "  plt.loglog(H,H**2,'o-', label = r'$O(h^2)$')\n",
        "  plt.xlabel('h')\n",
        "  plt.ylabel(r'$||u - \\widetilde{u}||$')\n",
        "  plt.legend()\n",
        "  plt.grid()\n",
        "\n",
        "  plt.figure()\n",
        "  plt.plot(N_list, Rciter_num,'o-', label = 'RCiteration number')\n",
        "  plt.xlabel('N')\n",
        "  plt.ylabel('Iteration Number')\n",
        "  plt.legend()\n",
        "  plt.grid()\n",
        "\n",
        "  plt.figure()\n",
        "  plt.plot(N_list, jciter_num,'o-', label = 'JCiteration number')\n",
        "  plt.xlabel('N')\n",
        "  plt.ylabel('Iteration Number')\n",
        "  plt.legend()\n",
        "  plt.grid()\n",
        "\n",
        "  plt.figure()\n",
        "  plt.plot(N_list, GSiter_num,'o-', label = 'GSiteration number')\n",
        "  plt.xlabel('N')\n",
        "  plt.ylabel('Iteration Number')\n",
        "  plt.legend()\n",
        "  plt.grid()\n",
        "\n",
        "  plt.figure()\n",
        "  plt.loglog(N_list, cond_num,'o-', label = r'$K(A)$')\n",
        "  plt.xlabel('N')\n",
        "  plt.ylabel(r'$K(A)$')\n",
        "  plt.legend()\n",
        "  plt.grid()\n",
        "\n",
        "  ax1 = sns.heatmap(reshape(utrue,(N-2,N-2)), linewidth=0.5, cmap= 'RdBu')\n",
        "  plt.show()\n",
        "\n",
        "  ax1 = sns.heatmap(reshape(u_numeric, (N-2,N-2)), linewidth=0.5, cmap= 'RdBu')\n",
        "  plt.show()\n",
        "\n",
        "  ax1 = sns.heatmap(reshape(u_rc, (N-2,N-2)), linewidth=0.5, cmap= 'RdBu')\n",
        "  plt.show()\n",
        "\n",
        "  ax1 = sns.heatmap(reshape(u_GS, (N-2,N-2)), linewidth=0.5, cmap= 'RdBu')\n",
        "  plt.show()\n",
        "\n",
        "  u = reshape(u1, (N-2,N-2))\n",
        "  ax = sns.heatmap(u, linewidth=0.5, cmap= 'RdBu')\n",
        "  plt.show()\n",
        "\n",
        "  fig = plt.figure(figsize=(10, 7))\n",
        "  ax = plt.axes(projection='3d')\n",
        "  surf = ax.plot_surface(X1, Y1, reshape(utrue,(N-2,N-2)), rstride=1, cstride=1, cmap='coolwarm', edgecolor='none')\n",
        "  ax.set_xlabel('x')\n",
        "  ax.set_ylabel('y')\n",
        "  ax.set_zlabel('u')\n",
        "  ax.set_title('Exact solution')\n",
        "  fig.colorbar(surf, shrink=0.5, aspect=5) \n",
        "  ax.view_init(50, 35)\n",
        "\n",
        "  fig = plt.figure(figsize=(10, 7))\n",
        "  ax = plt.axes(projection='3d')\n",
        "  surf = ax.plot_surface(X1, Y1, reshape(u_numeric, (N-2,N-2)), rstride=1, cstride=1, cmap='coolwarm', edgecolor='none')\n",
        "  ax.set_xlabel('x')\n",
        "  ax.set_ylabel('y')\n",
        "  ax.set_zlabel('u')\n",
        "  ax.set_title('Numerical solution')\n",
        "  fig.colorbar(surf, shrink=0.5, aspect=5) \n",
        "  ax.view_init(60, 35)\n",
        "\n",
        "  fig = plt.figure(figsize=(10, 7))\n",
        "  ax = plt.axes(projection='3d')\n",
        "  surf = ax.plot_surface(X1, Y1, reshape(u_rc, (N-2,N-2)), rstride=1, cstride=1, cmap='coolwarm', edgecolor='none')\n",
        "  ax.set_xlabel('x')\n",
        "  ax.set_ylabel('y')\n",
        "  ax.set_zlabel('u')\n",
        "  ax.set_title('Richardson solution')\n",
        "  fig.colorbar(surf, shrink=0.5, aspect=5) \n",
        "  ax.view_init(50, 35)\n",
        "\n",
        "\n",
        "  fig = plt.figure(figsize=(10, 7))\n",
        "  ax = plt.axes(projection='3d')\n",
        "  surf = ax.plot_surface(X1, Y1, reshape(u_GS, (N-2,N-2)), rstride=1, cstride=1, cmap='coolwarm', edgecolor='none')\n",
        "  ax.set_xlabel('x')\n",
        "  ax.set_ylabel('y')\n",
        "  ax.set_zlabel('u')\n",
        "  ax.set_title('GS solution')\n",
        "  fig.colorbar(surf, shrink=0.5, aspect=5) \n",
        "  ax.view_init(50, 35)\n",
        "\n",
        "  fig = plt.figure(figsize=(10, 7))\n",
        "  ax = plt.axes(projection='3d')\n",
        "  surf = ax.plot_surface(X1, Y1, reshape(u1, (N-2,N-2)), rstride=1, cstride=1, cmap='coolwarm', edgecolor='none')\n",
        "  ax.set_xlabel('x')\n",
        "  ax.set_ylabel('y')\n",
        "  ax.set_zlabel('u')\n",
        "  ax.set_title('CG solution')\n",
        "  fig.colorbar(surf, shrink=0.5, aspect=5) \n",
        "  ax.view_init(60, 35)"
      ],
      "execution_count": null,
      "outputs": []
    },
    {
      "cell_type": "code",
      "metadata": {
        "id": "c6DvUk9t_UpT",
        "colab": {
          "base_uri": "https://localhost:8080/",
          "height": 558
        },
        "outputId": "6417a14b-d87f-4792-95d4-041b34a3cb82"
      },
      "source": [
        "#Numerical HW: Problem Number 10:\n",
        "from numpy import *\n",
        "import matplotlib.pyplot as plt\n",
        "plt.rcParams.update({'font.size': 12})\n",
        "\n",
        "def power_method(A, w0, tol, nmax):\n",
        "  q= w0/linalg.norm(w0)\n",
        "  q2 = q\n",
        "  iter = 0\n",
        "  w = A.dot(q)\n",
        "  while iter <= nmax:\n",
        "        q = w/linalg.norm(w)\n",
        "        w = A.dot(q)\n",
        "        lamda = q.dot(w)\n",
        "        x = q\n",
        "        w2 = q2.dot(A)\n",
        "        q2 = w2/linalg.norm(w2)\n",
        "        y1 = q2\n",
        "        costheta = abs(y1.dot(x))        \n",
        "        if costheta >= 5e-2:\n",
        "            iter = iter + 1            \n",
        "            temp = linalg.norm(w-lamda*(q))/costheta                  \n",
        "  return lamda, x  #return maximum eigen value and the corresponding eigen vector of the matrix A \n",
        "\n",
        "A = array([[1, -1, 2],[-2, 0, 5],[6, -3, 6]])\n",
        "w, v = linalg.eig(A)   #exact eigen value and the eigen vectors of A\n",
        "\n",
        "p1 = array([1/sqrt(3),1/sqrt(3), 1/sqrt(3)]) # First initial guess\n",
        "x2 = array([1, 6, 4])\n",
        "x3 = array([1, 2, 0])\n",
        "w0 = (1/3)*x2 - (2/3)*x3\n",
        "p2 = w0/linalg.norm(w0)  # the second initial guess \n",
        "\n",
        "N = [5,10,20,50,100,200]\n",
        "V = [5,16,18]   # the exact eigen vector corresponding to the max eigen value\n",
        "\n",
        "egval1 = empty(0)\n",
        "egvec1 = empty(0)\n",
        "egval2 = empty(0)\n",
        "egvec2 = empty(0)              \n",
        "\n",
        "for i in N:\n",
        "    A1 = power_method(A, p1, 10e-10, i)   \n",
        "    A2 = power_method(A, p2, 10e-10, i)\n",
        "    \n",
        "    egval_error1 = abs(w.max() - A1[0])/abs(w.max())          #relative error of eigen values with first initial guess\n",
        "    egval_error2 = abs(w.max() - A2[0])/abs(w.max())          #relative error of eigen values with second initial guess\n",
        "\n",
        "    egvec_error1 = linalg.norm(cross(V, A1[1]))               #length of the cross product between the eigen vectors (exact and approximated) with first initial guess\n",
        "    egvec_error2 = linalg.norm(cross(V, A2[1]))               #length of the cross product between the eigen vectors (exact and approximated) with second initial guess\n",
        "\n",
        "    egval1 = append(egval1, egval_error1)                 \n",
        "    egvec1 = append(egvec1, egvec_error1)                 \n",
        "\n",
        "    egval2 = append(egval2, egval_error2)                 \n",
        "    egvec2 = append(egvec2, egvec_error2 )                \n",
        "\n",
        "\n",
        "plt.figure()\n",
        "plt.semilogy(N,egval1, '*--',label = r'$error({\\lambda_1})$')\n",
        "plt.semilogy(N, egval2,'o--', label = r'$error({\\lambda_2})$')\n",
        "plt.ylabel('eigen value error')\n",
        "plt.xlabel('Number of iteration')\n",
        "plt.legend()\n",
        "plt.grid()\n",
        "\n",
        "plt.figure()\n",
        "plt.semilogy(N,egvec1, '*--',label = r'$||v_{exact}\\times v_{numrc_1}||_2$')\n",
        "plt.semilogy(N, egvec2,'o--', label = r'$||v_{exact}\\times v_{numrc_2}||_2$')\n",
        "plt.ylabel(r'$||v_{exact}\\times v_{numrc}||_2$')\n",
        "plt.xlabel('Number of iteration')\n",
        "plt.legend()\n",
        "plt.grid()"
      ],
      "execution_count": null,
      "outputs": [
        {
          "output_type": "display_data",
          "data": {
            "image/png": "[encoded data removed]",
            "text/plain": [
              "<Figure size 432x288 with 1 Axes>"
            ]
          },
          "metadata": {
            "tags": []
          }
        },
        {
          "output_type": "display_data",
          "data": {
            "image/png": "[encoded data removed]",
            "text/plain": [
              "<Figure size 432x288 with 1 Axes>"
            ]
          },
          "metadata": {
            "tags": []
          }
        }
      ]
    },
    {
      "cell_type": "markdown",
      "metadata": {
        "id": "w_eUPrP0fnVq"
      },
      "source": [
        "Although from the exact arithmetic the seqence(5.17) converges to the pair $\\lambda"
      ]
    },
    {
      "cell_type": "code",
      "metadata": {
        "id": "5jaN4zK9NAfQ"
      },
      "source": [
        "from numpy import *\n",
        "import matplotlib.pyplot as plt\n",
        "N = [100, 10**3, 10**4, 10**4, 10**5, 10**6]\n",
        "for n in N:\n",
        "  X = random.uniform(-1,1,n)\n",
        "  Y= random.uniform(-1,1,n)\n",
        "  sum = 0\n",
        "  for x,y in zip(X,Y):    \n",
        "    if x**2+y**2<=1: \n",
        "      sum = sum + 1\n",
        "  print(sum, 4*sum/n, pi)\n",
        "  \n",
        "  plt.figure()\n",
        "  plt.plot(X,Y,'.')\n",
        "  plt.title(\"N=%i\"%n)\n",
        "  plt.xlabel('X')\n",
        "  plt.ylabel(\"Y\")"
      ],
      "execution_count": null,
      "outputs": []
    },
    {
      "cell_type": "code",
      "metadata": {
        "id": "vd_dQhiCXixm",
        "colab": {
          "base_uri": "https://localhost:8080/",
          "height": 633
        },
        "outputId": "2e137a6c-b9d7-4e45-d343-bd2dca048acd"
      },
      "source": [
        "#Numerical HW\n",
        "#12\n",
        "from IPython import get_ipython\n",
        "get_ipython().magic('reset -sf')\n",
        "from numpy import *\n",
        "import matplotlib.pyplot as plt\n",
        "\n",
        "\n",
        "N = [2, 4, 8, 16, 32, 64, 128]\n",
        "def sum1(N):\n",
        "  list_sum = empty(0)\n",
        "  for i in N:\n",
        "    sum=0 \n",
        "    for n in range(i):\n",
        "      n_term = 4*((-1)**n/(2*n +1))\n",
        "      sum += n_term\n",
        "    list_sum = append(list_sum, sum)\n",
        "\n",
        "  return list_sum\n",
        "\n",
        "def sum2(N):\n",
        "  list_sum = empty(0)\n",
        "  for i in N:\n",
        "    s=0.0 \n",
        "    numerator1 = 1.0\n",
        "    denom1 = 1.0\n",
        "    for n in range(i):           \n",
        "      if n >= 1:        \n",
        "        numerator1 *= 2.0*n -1.0\n",
        "        denom1 *= 2.0*n\n",
        "      else:\n",
        "        numerator1 = 1.0\n",
        "        denom1 = 1.0  \n",
        "        \n",
        "      n_term = 6.0*(numerator1*(0.5)**(2.0*n+1.0))/(denom1*(2.0*n +1.0))\n",
        "      s += n_term      \n",
        "    list_sum = append(list_sum, s)\n",
        "    \n",
        "  return list_sum\n",
        "\n",
        "\n",
        "error1 = abs(pi - sum1(N))\n",
        "error2 = abs(pi - sum2(N))\n",
        "\n",
        "\n",
        "plt.figure()\n",
        "plt.plot(pi,pi,'r*', label = '$\\pi$')\n",
        "plt.plot(N, sum1(N),'g.-', label = 'series1')\n",
        "plt.plot(N, sum2(N),'.-', label = ' series2')\n",
        "plt.xlabel('n')\n",
        "plt.ylabel('sum')\n",
        "plt.legend()\n",
        "plt.grid()\n",
        "\n",
        "\n",
        "plt.figure()\n",
        "plt.semilogy(N, error1,'*-', label = 'series1_error')\n",
        "plt.semilogy(N, error2, '*-', label = 'series2_error')\n",
        "plt.xlabel('n')\n",
        "plt.ylabel('Error')\n",
        "plt.legend(prop={'size': 15})\n",
        "plt.grid()\n",
        "\n",
        "print(sum1(N), sum2(N), error1, error2)"
      ],
      "execution_count": null,
      "outputs": [
        {
          "output_type": "stream",
          "text": [
            "[2.66666667 2.8952381  3.01707182 3.07915339 3.11035027 3.12596861\n",
            " 3.13378027] [3.125      3.14115513 3.14159198 3.14159265 3.14159265 3.14159265\n",
            " 3.14159265] [0.47492599 0.24635456 0.12452084 0.06243926 0.03124238 0.01562405\n",
            " 0.00781238] [1.65926536e-02 4.37519661e-04 6.71231410e-07 3.84270393e-12\n",
            " 4.44089210e-16 4.44089210e-16 4.44089210e-16]\n"
          ],
          "name": "stdout"
        },
        {
          "output_type": "display_data",
          "data": {
            "image/png": "[encoded data removed]",
            "text/plain": [
              "<Figure size 432x288 with 1 Axes>"
            ]
          },
          "metadata": {
            "tags": []
          }
        },
        {
          "output_type": "display_data",
          "data": {
            "image/png": "[encoded data removed]",
            "text/plain": [
              "<Figure size 432x288 with 1 Axes>"
            ]
          },
          "metadata": {
            "tags": []
          }
        }
      ]
    },
    {
      "cell_type": "code",
      "metadata": {
        "id": "Hk6oZz96dPWO",
        "colab": {
          "base_uri": "https://localhost:8080/",
          "height": 331
        },
        "outputId": "69e44343-070b-4da4-8009-dff9e8c35bbc"
      },
      "source": [
        "#Problem 13\n",
        "from numpy import *\n",
        "import matplotlib.pyplot as plt\n",
        "plt.rcParams.update({'font.size': 15})\n",
        "random.seed(1)\n",
        "\n",
        "alg1 = empty(0)\n",
        "alg2 = empty(0)\n",
        "\n",
        "def rnd():\n",
        "    exp = random.randint(-19, -5)  \n",
        "    return random.random()*10**exp\n",
        "\n",
        "def Algorithm1(x):\n",
        "  if x ==0:\n",
        "    f = 1\n",
        "  else:\n",
        "    f = (exp(x) - 1)/x\n",
        "  return f\n",
        "    \n",
        "def Algorithm2(x):\n",
        "  y = exp(x)\n",
        "  if y == 1:\n",
        "    f = 1\n",
        "  else:\n",
        "    f = (y-1)/log(y)\n",
        "  return f\n",
        "\n",
        "x = array([rnd() for _ in range(2000)])\n",
        "x.sort()\n",
        "for i in x:  \n",
        "  alg1 = append(alg1, Algorithm1(i))\n",
        "  alg2 = append(alg2, Algorithm2(i))\n",
        "\n",
        "#print(alg1, alg2)\n",
        "\n",
        "plt.figure()\n",
        "plt.loglog(x, alg1, '-', label = 'alg1')\n",
        "plt.loglog(x, alg2, 'r--', label = 'alg2')\n",
        "plt.xlabel('x', fontsize =15)\n",
        "plt.ylabel('f(x)', fontsize = 15)\n",
        "plt.legend(prop={'size': 15})\n",
        "\n",
        "\n",
        "\n"
      ],
      "execution_count": null,
      "outputs": [
        {
          "output_type": "stream",
          "text": [
            "[0.         0.         0.         ... 1.00000049 1.0000005  1.0000005 ] [1.         1.         1.         ... 1.00000049 1.0000005  1.0000005 ]\n"
          ],
          "name": "stdout"
        },
        {
          "output_type": "execute_result",
          "data": {
            "text/plain": [
              "<matplotlib.legend.Legend at 0x7f0951dcd0b8>"
            ]
          },
          "metadata": {
            "tags": []
          },
          "execution_count": 38
        },
        {
          "output_type": "display_data",
          "data": {
            "image/png": "[encoded data removed]",
            "text/plain": [
              "<Figure size 432x288 with 1 Axes>"
            ]
          },
          "metadata": {
            "tags": []
          }
        }
      ]
    },
    {
      "cell_type": "markdown",
      "metadata": {
        "id": "67Ozv9BpdW1R"
      },
      "source": [
        ""
      ]
    },
    {
      "cell_type": "code",
      "metadata": {
        "id": "jmHC-T5XTrdz",
        "colab": {
          "base_uri": "https://localhost:8080/",
          "height": 321
        },
        "outputId": "6e6d009a-eebe-4dbb-f97f-37a04746b155"
      },
      "source": [
        "# Problem 3\n",
        "from __future__ import absolute_import, division, print_function\n",
        "\n",
        "from IPython import get_ipython\n",
        "get_ipython().magic('reset -sf')\n",
        "from numpy import *\n",
        "import matplotlib.pyplot as plt\n",
        "\n",
        "N=[3,6,12,24,48,96]\n",
        "def vendermonde_system(N):\n",
        "  error_max = empty(0)\n",
        "  for n in N:\n",
        "    A = empty((0,n))\n",
        "    f = empty(0)\n",
        "    a_exact = array([0,1,-1])\n",
        "    for i in range(n):\n",
        "      if i>=3: \n",
        "        a_exact = append(a_exact, 0)\n",
        "\n",
        "      xi = (i+1)/n\n",
        "      row_i = empty(0)\n",
        "\n",
        "      for j in range(n):\n",
        "        xi_n = xi**j\n",
        "        row_i = asarray(append(row_i, xi_n))\n",
        "\n",
        "      f_i = (i+1)/n - ((i+1)/n)**2\n",
        "\n",
        "      f = append(f, f_i) \n",
        "         \n",
        "      A = append(A, [row_i], axis = 0)   \n",
        "\n",
        "    a_numeric = matmul(linalg.inv(A),f)\n",
        "    error = a_exact - a_numeric\n",
        "    error_inf = linalg.norm(error,  inf)\n",
        "    error_max = append(error_max, error_inf)\n",
        "  return error_max\n",
        "\n",
        "print([vendermonde_system(N),N])\n",
        "\n",
        "plt.figure()\n",
        "plt.semilogy(N, vendermonde_system(N),'o-',label = 'error')\n",
        "plt.xlabel('Order of the Vendermonde matrix',fontsize = 15)\n",
        "plt.ylabel('Error',fontsize = 15)\n",
        "plt.legend(prop={'size': 15})\n",
        "plt.grid()\n",
        "\n"
      ],
      "execution_count": null,
      "outputs": [
        {
          "output_type": "stream",
          "text": [
            "[array([1.33226763e-15, 1.42108547e-13, 2.28174031e-07, 2.10435000e+04,\n",
            "       8.69391359e+10, 4.72848830e+14]), [3, 6, 12, 24, 48, 96]]\n"
          ],
          "name": "stdout"
        },
        {
          "output_type": "display_data",
          "data": {
            "image/png": "[encoded data removed]",
            "text/plain": [
              "<Figure size 432x288 with 1 Axes>"
            ]
          },
          "metadata": {
            "tags": []
          }
        }
      ]
    }
  ]
}